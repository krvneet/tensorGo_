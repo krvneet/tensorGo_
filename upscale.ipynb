{
 "cells": [
  {
   "cell_type": "code",
   "execution_count": 12,
   "metadata": {},
   "outputs": [
    {
     "name": "stderr",
     "output_type": "stream",
     "text": [
      "'ln' is not recognized as an internal or external command,\n",
      "operable program or batch file.\n"
     ]
    },
    {
     "ename": "ModuleNotFoundError",
     "evalue": "No module named 'RRDBNet_arch'",
     "output_type": "error",
     "traceback": [
      "\u001b[1;31m---------------------------------------------------------------------------\u001b[0m",
      "\u001b[1;31mModuleNotFoundError\u001b[0m                       Traceback (most recent call last)",
      "Cell \u001b[1;32mIn[12], line 9\u001b[0m\n\u001b[0;32m      6\u001b[0m \u001b[38;5;28;01mimport\u001b[39;00m \u001b[38;5;21;01mcv2\u001b[39;00m\n\u001b[0;32m      8\u001b[0m get_ipython()\u001b[38;5;241m.\u001b[39msystem(\u001b[38;5;124m'\u001b[39m\u001b[38;5;124mln -s /RRDBNet_arch.py RRDBNet_arch.py\u001b[39m\u001b[38;5;124m'\u001b[39m)\n\u001b[1;32m----> 9\u001b[0m \u001b[38;5;28;01mimport\u001b[39;00m \u001b[38;5;21;01mRRDBNet_arch\u001b[39;00m \u001b[38;5;28;01mas\u001b[39;00m \u001b[38;5;21;01march\u001b[39;00m\n",
      "\u001b[1;31mModuleNotFoundError\u001b[0m: No module named 'RRDBNet_arch'"
     ]
    }
   ],
   "source": [
    "import cv2\n",
    "import numpy as np\n",
    "import torch\n",
    "import os.path as osp\n",
    "import glob\n",
    "import cv2\n",
    "\n",
    "!ln -s /RRDBNet_arch.py RRDBNet_arch.py \n",
    "import RRDBNet_arch as arch\n"
   ]
  },
  {
   "cell_type": "code",
   "execution_count": 5,
   "metadata": {},
   "outputs": [],
   "source": [
    "\n",
    "\n",
    "def upsample_video(input_video_path, output_video_path, model_path=model_path, device=device, frame_skip=2):\n",
    "    # Load Pretrained Model\n",
    "    model = arch.RRDBNet(3, 3, 64, 23, gc=32)\n",
    "    model.load_state_dict(torch.load(model_path), strict=True)\n",
    "    model.eval()\n",
    "    model = model.to(device)\n",
    "\n",
    "    # Open the Input Video File\n",
    "    cap = cv2.VideoCapture(input_video_path)\n",
    "    if not cap.isOpened():\n",
    "        print(\"File Path Not Defined\")\n",
    "        return\n",
    "    \n",
    "    # Get Video Properties\n",
    "    width = int(cap.get(cv2.CAP_PROP_FRAME_WIDTH))\n",
    "    height = int(cap.get(cv2.CAP_PROP_FRAME_HEIGHT))\n",
    "    fps = cap.get(cv2.CAP_PROP_FPS)\n",
    "    total_frames = int(cap.get(cv2.CAP_PROP_FRAME_COUNT))\n",
    "\n",
    "    # CREATE VIDEO WRITER OBJECT\n",
    "    fourcc = cv2.VideoWriter_fourcc(*'XVID')\n",
    "    out = cv2.VideoWriter(output_video_path, fourcc, fps, (1280, 720))\n",
    "\n",
    "    print(f\"Processing Video: {input_video_path}\")\n",
    "    print(f\"Frame Size: {width}X{height}, FPS: {fps}, Total Frames: {total_frames}\")\n",
    "\n",
    "    # PROCESS EACH FRAME\n",
    "    frame_count = 0\n",
    "    while True:\n",
    "        ret, frame = cap.read()\n",
    "        if not ret:\n",
    "            break  # END of Video\n",
    "\n",
    "        # Skip frames if frame_count is not divisible by frame_skip\n",
    "        if frame_count % frame_skip != 0:\n",
    "            frame_count += 1\n",
    "            continue\n",
    "\n",
    "        # UPSCALE the frame\n",
    "        img = frame * 1.0 / 255.0\n",
    "        img = torch.from_numpy(np.transpose(img[:, :, [2, 1, 0]], (2, 0, 1))).float()\n",
    "        img_LR = img.unsqueeze(0)\n",
    "        img_LR = img_LR.to(device)\n",
    "\n",
    "        with torch.no_grad():\n",
    "            output = model(img_LR).data.squeeze().float().cpu().clamp_(0, 1).numpy()\n",
    "        output = np.transpose(output[[2, 1, 0], :, :], (1, 2, 0))\n",
    "        output = (output * 255.0).round()\n",
    "\n",
    "        # Resize the output to 1280*720\n",
    "        output = cv2.resize(output, (1280, 720), interpolation=cv2.INTER_LINEAR_EXACT)\n",
    "\n",
    "        # Writing the final images onto the video\n",
    "        out.write(output)\n",
    "\n",
    "        frame_count += 1\n",
    "\n",
    "        print(f\"\\rProcessed Frame: {frame_count}/{total_frames}\", end=\"\")\n",
    "\n",
    "    print(\"\\nProcessing Completed\")\n",
    "\n",
    "    # Release Video Capture and Video Writer Object\n",
    "    cap.release()\n",
    "    out.release()"
   ]
  },
  {
   "cell_type": "code",
   "execution_count": 6,
   "metadata": {},
   "outputs": [
    {
     "ename": "NameError",
     "evalue": "name 'arch' is not defined",
     "output_type": "error",
     "traceback": [
      "\u001b[1;31m---------------------------------------------------------------------------\u001b[0m",
      "\u001b[1;31mNameError\u001b[0m                                 Traceback (most recent call last)",
      "Cell \u001b[1;32mIn[6], line 5\u001b[0m\n\u001b[0;32m      3\u001b[0m model_path \u001b[38;5;241m=\u001b[39m \u001b[38;5;124m\"\u001b[39m\u001b[38;5;124mESRGAN/model/RRDB_ESRGAN_x4.pth\u001b[39m\u001b[38;5;124m\"\u001b[39m\n\u001b[0;32m      4\u001b[0m device \u001b[38;5;241m=\u001b[39m \u001b[38;5;124m'\u001b[39m\u001b[38;5;124mcuda:0\u001b[39m\u001b[38;5;124m'\u001b[39m\n\u001b[1;32m----> 5\u001b[0m \u001b[43mupsample_video\u001b[49m\u001b[43m(\u001b[49m\u001b[43minput_video_path\u001b[49m\u001b[43m,\u001b[49m\u001b[43m \u001b[49m\u001b[43moutput_video_path\u001b[49m\u001b[43m,\u001b[49m\u001b[43m \u001b[49m\u001b[43mmodel_path\u001b[49m\u001b[43m,\u001b[49m\u001b[43m \u001b[49m\u001b[43mdevice\u001b[49m\u001b[43m)\u001b[49m \n",
      "Cell \u001b[1;32mIn[5], line 8\u001b[0m, in \u001b[0;36mupsample_video\u001b[1;34m(input_video_path, output_video_path, model_path, device, frame_skip)\u001b[0m\n\u001b[0;32m      6\u001b[0m \u001b[38;5;28;01mdef\u001b[39;00m \u001b[38;5;21mupsample_video\u001b[39m(input_video_path, output_video_path, model_path\u001b[38;5;241m=\u001b[39mmodel_path, device\u001b[38;5;241m=\u001b[39mdevice, frame_skip\u001b[38;5;241m=\u001b[39m\u001b[38;5;241m2\u001b[39m):\n\u001b[0;32m      7\u001b[0m     \u001b[38;5;66;03m# Load Pretrained Model\u001b[39;00m\n\u001b[1;32m----> 8\u001b[0m     model \u001b[38;5;241m=\u001b[39m \u001b[43march\u001b[49m\u001b[38;5;241m.\u001b[39mRRDBNet(\u001b[38;5;241m3\u001b[39m, \u001b[38;5;241m3\u001b[39m, \u001b[38;5;241m64\u001b[39m, \u001b[38;5;241m23\u001b[39m, gc\u001b[38;5;241m=\u001b[39m\u001b[38;5;241m32\u001b[39m)\n\u001b[0;32m      9\u001b[0m     model\u001b[38;5;241m.\u001b[39mload_state_dict(torch\u001b[38;5;241m.\u001b[39mload(model_path), strict\u001b[38;5;241m=\u001b[39m\u001b[38;5;28;01mTrue\u001b[39;00m)\n\u001b[0;32m     10\u001b[0m     model\u001b[38;5;241m.\u001b[39meval()\n",
      "\u001b[1;31mNameError\u001b[0m: name 'arch' is not defined"
     ]
    }
   ],
   "source": [
    "input_video_path = \"test.mp4\"\n",
    "output_video_path = \"/output/\"\n",
    "model_path = \"ESRGAN/model/RRDB_ESRGAN_x4.pth\"\n",
    "device = 'cuda:0'\n",
    "upsample_video(input_video_path, output_video_path, model_path, device) "
   ]
  },
  {
   "cell_type": "code",
   "execution_count": null,
   "metadata": {},
   "outputs": [],
   "source": []
  }
 ],
 "metadata": {
  "kernelspec": {
   "display_name": "intern",
   "language": "python",
   "name": "python3"
  },
  "language_info": {
   "codemirror_mode": {
    "name": "ipython",
    "version": 3
   },
   "file_extension": ".py",
   "mimetype": "text/x-python",
   "name": "python",
   "nbconvert_exporter": "python",
   "pygments_lexer": "ipython3",
   "version": "3.11.4"
  }
 },
 "nbformat": 4,
 "nbformat_minor": 2
}
